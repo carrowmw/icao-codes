{
 "cells": [
  {
   "cell_type": "code",
   "execution_count": 1,
   "metadata": {},
   "outputs": [],
   "source": [
    "import pandas as pd\n",
    "import numpy as np"
   ]
  },
  {
   "cell_type": "code",
   "execution_count": 2,
   "metadata": {},
   "outputs": [],
   "source": [
    "df = pd.read_csv('icao-with-country-names.csv')"
   ]
  },
  {
   "cell_type": "code",
   "execution_count": 3,
   "metadata": {},
   "outputs": [],
   "source": [
    "def from_icao_code(code):\n",
    "    return df[df.apply(lambda x: x['icao'] == code, axis=1)]"
   ]
  },
  {
   "cell_type": "code",
   "execution_count": 4,
   "metadata": {},
   "outputs": [
    {
     "data": {
      "text/html": [
       "<div>\n",
       "<style scoped>\n",
       "    .dataframe tbody tr th:only-of-type {\n",
       "        vertical-align: middle;\n",
       "    }\n",
       "\n",
       "    .dataframe tbody tr th {\n",
       "        vertical-align: top;\n",
       "    }\n",
       "\n",
       "    .dataframe thead th {\n",
       "        text-align: right;\n",
       "    }\n",
       "</style>\n",
       "<table border=\"1\" class=\"dataframe\">\n",
       "  <thead>\n",
       "    <tr style=\"text-align: right;\">\n",
       "      <th></th>\n",
       "      <th>country_code</th>\n",
       "      <th>region_name</th>\n",
       "      <th>iata</th>\n",
       "      <th>icao</th>\n",
       "      <th>airport</th>\n",
       "      <th>latitude</th>\n",
       "      <th>longitude</th>\n",
       "      <th>country</th>\n",
       "    </tr>\n",
       "  </thead>\n",
       "  <tbody>\n",
       "    <tr>\n",
       "      <th>0</th>\n",
       "      <td>AE</td>\n",
       "      <td>Ash Shariqah</td>\n",
       "      <td>SHJ</td>\n",
       "      <td>OMSJ</td>\n",
       "      <td>Sharjah International Airport</td>\n",
       "      <td>25.328600</td>\n",
       "      <td>55.51720047</td>\n",
       "      <td>United Arab Emirates</td>\n",
       "    </tr>\n",
       "    <tr>\n",
       "      <th>1</th>\n",
       "      <td>AE</td>\n",
       "      <td>Abu Zaby</td>\n",
       "      <td>AZI</td>\n",
       "      <td>OMAD</td>\n",
       "      <td>Al Bateen Executive Airport</td>\n",
       "      <td>24.428301</td>\n",
       "      <td>54.45809937</td>\n",
       "      <td>United Arab Emirates</td>\n",
       "    </tr>\n",
       "    <tr>\n",
       "      <th>2</th>\n",
       "      <td>AE</td>\n",
       "      <td>Al Fujayrah</td>\n",
       "      <td>FJR</td>\n",
       "      <td>OMFJ</td>\n",
       "      <td>Fujairah International Airport</td>\n",
       "      <td>25.112200</td>\n",
       "      <td>56.32400131</td>\n",
       "      <td>United Arab Emirates</td>\n",
       "    </tr>\n",
       "    <tr>\n",
       "      <th>3</th>\n",
       "      <td>AE</td>\n",
       "      <td>Abu Zaby</td>\n",
       "      <td>XSB</td>\n",
       "      <td>OMBY</td>\n",
       "      <td>Sir Bani Yas Airport</td>\n",
       "      <td>24.283611</td>\n",
       "      <td>52.580278</td>\n",
       "      <td>United Arab Emirates</td>\n",
       "    </tr>\n",
       "    <tr>\n",
       "      <th>4</th>\n",
       "      <td>AE</td>\n",
       "      <td>Ra's al Khaymah</td>\n",
       "      <td>RKT</td>\n",
       "      <td>OMRK</td>\n",
       "      <td>Ras Al Khaimah International Airport</td>\n",
       "      <td>25.613501</td>\n",
       "      <td>55.93880081</td>\n",
       "      <td>United Arab Emirates</td>\n",
       "    </tr>\n",
       "  </tbody>\n",
       "</table>\n",
       "</div>"
      ],
      "text/plain": [
       "  country_code      region_name iata  icao  \\\n",
       "0           AE     Ash Shariqah  SHJ  OMSJ   \n",
       "1           AE         Abu Zaby  AZI  OMAD   \n",
       "2           AE      Al Fujayrah  FJR  OMFJ   \n",
       "3           AE         Abu Zaby  XSB  OMBY   \n",
       "4           AE  Ra's al Khaymah  RKT  OMRK   \n",
       "\n",
       "                                airport   latitude    longitude  \\\n",
       "0         Sharjah International Airport  25.328600  55.51720047   \n",
       "1           Al Bateen Executive Airport  24.428301  54.45809937   \n",
       "2        Fujairah International Airport  25.112200  56.32400131   \n",
       "3                  Sir Bani Yas Airport  24.283611    52.580278   \n",
       "4  Ras Al Khaimah International Airport  25.613501  55.93880081   \n",
       "\n",
       "                country  \n",
       "0  United Arab Emirates  \n",
       "1  United Arab Emirates  \n",
       "2  United Arab Emirates  \n",
       "3  United Arab Emirates  \n",
       "4  United Arab Emirates  "
      ]
     },
     "execution_count": 4,
     "metadata": {},
     "output_type": "execute_result"
    }
   ],
   "source": [
    "df.head()"
   ]
  },
  {
   "cell_type": "code",
   "execution_count": 5,
   "metadata": {},
   "outputs": [
    {
     "data": {
      "text/html": [
       "<div>\n",
       "<style scoped>\n",
       "    .dataframe tbody tr th:only-of-type {\n",
       "        vertical-align: middle;\n",
       "    }\n",
       "\n",
       "    .dataframe tbody tr th {\n",
       "        vertical-align: top;\n",
       "    }\n",
       "\n",
       "    .dataframe thead th {\n",
       "        text-align: right;\n",
       "    }\n",
       "</style>\n",
       "<table border=\"1\" class=\"dataframe\">\n",
       "  <thead>\n",
       "    <tr style=\"text-align: right;\">\n",
       "      <th></th>\n",
       "      <th>country_code</th>\n",
       "      <th>region_name</th>\n",
       "      <th>iata</th>\n",
       "      <th>icao</th>\n",
       "      <th>airport</th>\n",
       "      <th>latitude</th>\n",
       "      <th>longitude</th>\n",
       "      <th>country</th>\n",
       "    </tr>\n",
       "  </thead>\n",
       "  <tbody>\n",
       "    <tr>\n",
       "      <th>0</th>\n",
       "      <td>AE</td>\n",
       "      <td>Ash Shariqah</td>\n",
       "      <td>SHJ</td>\n",
       "      <td>OMSJ</td>\n",
       "      <td>Sharjah International Airport</td>\n",
       "      <td>25.3286</td>\n",
       "      <td>55.51720047</td>\n",
       "      <td>United Arab Emirates</td>\n",
       "    </tr>\n",
       "  </tbody>\n",
       "</table>\n",
       "</div>"
      ],
      "text/plain": [
       "  country_code   region_name iata  icao                        airport  \\\n",
       "0           AE  Ash Shariqah  SHJ  OMSJ  Sharjah International Airport   \n",
       "\n",
       "   latitude    longitude               country  \n",
       "0   25.3286  55.51720047  United Arab Emirates  "
      ]
     },
     "execution_count": 5,
     "metadata": {},
     "output_type": "execute_result"
    }
   ],
   "source": [
    "from_icao_code('OMSJ')"
   ]
  }
 ],
 "metadata": {
  "kernelspec": {
   "display_name": "Python 3.10.2 ('venv': venv)",
   "language": "python",
   "name": "python3"
  },
  "language_info": {
   "codemirror_mode": {
    "name": "ipython",
    "version": 3
   },
   "file_extension": ".py",
   "mimetype": "text/x-python",
   "name": "python",
   "nbconvert_exporter": "python",
   "pygments_lexer": "ipython3",
   "version": "3.10.2"
  },
  "orig_nbformat": 4,
  "vscode": {
   "interpreter": {
    "hash": "b5d96dc676368951080e13210d09c063fe58a125a1898f16991fa263940b84fb"
   }
  }
 },
 "nbformat": 4,
 "nbformat_minor": 2
}
